{
 "cells": [
  {
   "cell_type": "code",
   "execution_count": 1,
   "id": "b78fe1ea",
   "metadata": {},
   "outputs": [],
   "source": [
    "# last update 25.01.22, NR\n",
    "import numpy as np\n",
    "import math as math\n",
    "import cmath\n",
    "\n",
    "from sympy import *\n",
    "from sympy.printing import print_ccode\n",
    "\n",
    "# EXPORT\n",
    "import os, re\n",
    "init_printing()"
   ]
  },
  {
   "cell_type": "code",
   "execution_count": 59,
   "id": "61c0674d",
   "metadata": {},
   "outputs": [],
   "source": [
    "Ga = sympify('alpha_a*(p_a0*mu_a0+p_a1*mu_a1+p_a2*mu_a2+p_a3*mu_a3+p_a4*mu_a4)');\n",
    "Gb = sympify('alpha_b*(p_b0*mu_b0+p_b1*mu_b1+p_b2*mu_b2+p_b3*mu_b3+p_b4*mu_b4)');\n",
    "# Gc = sympify('alpha_c*(p_c0*mu_c0+p_c1*mu_c1+p_c2*mu_c2+p_c3*mu_c3)');\n",
    "Gc = sympify('alpha_c*mu_c');\n",
    "bj = sympify('bj');\n",
    "# der= sympify('2*alpha_a*mu_a0');\n",
    "der= sympify('2*mu_c');"
   ]
  },
  {
   "cell_type": "code",
   "execution_count": 60,
   "id": "2fe5066b",
   "metadata": {},
   "outputs": [
    {
     "data": {
      "image/png": "[encoded data removed]",
      "text/latex": [
       "$\\displaystyle 2 \\mu_{c} \\left(\\alpha_{a} \\left(\\mu_{a0} p_{a0} + \\mu_{a1} p_{a1} + \\mu_{a2} p_{a2} + \\mu_{a3} p_{a3} + \\mu_{a4} p_{a4}\\right) + \\alpha_{b} \\left(\\mu_{b0} p_{b0} + \\mu_{b1} p_{b1} + \\mu_{b2} p_{b2} + \\mu_{b3} p_{b3} + \\mu_{b4} p_{b4}\\right) + \\alpha_{c} \\mu_{c} - bj\\right)$"
      ],
      "text/plain": [
       "2⋅μ_c⋅(αₐ⋅(μₐ₀⋅pₐ₀ + μₐ₁⋅pₐ₁ + μₐ₂⋅pₐ₂ + μₐ₃⋅pₐ₃ + μₐ₄⋅pₐ₄) + α_b⋅(μ_b0⋅p_b0 +\n",
       " μ_b1⋅p_b1 + μ_b2⋅p_b2 + μ_b3⋅p_b3 + μ_b4⋅p_b4) + α_c⋅μ_c - bj)"
      ]
     },
     "metadata": {},
     "output_type": "display_data"
    },
    {
     "data": {
      "image/png": "[encoded data removed]",
      "text/latex": [
       "$\\displaystyle 2 \\mu_{c} \\left(\\alpha_{a} \\left(\\mu_{a0} p_{a0} + \\mu_{a1} p_{a1} + \\mu_{a2} p_{a2} + \\mu_{a3} p_{a3} + \\mu_{a4} p_{a4}\\right) + \\alpha_{b} \\left(\\mu_{b0} p_{b0} + \\mu_{b1} p_{b1} + \\mu_{b2} p_{b2} + \\mu_{b3} p_{b3} + \\mu_{b4} p_{b4}\\right) + \\alpha_{c} \\mu_{c} - bj\\right)$"
      ],
      "text/plain": [
       "2⋅μ_c⋅(αₐ⋅(μₐ₀⋅pₐ₀ + μₐ₁⋅pₐ₁ + μₐ₂⋅pₐ₂ + μₐ₃⋅pₐ₃ + μₐ₄⋅pₐ₄) + α_b⋅(μ_b0⋅p_b0 +\n",
       " μ_b1⋅p_b1 + μ_b2⋅p_b2 + μ_b3⋅p_b3 + μ_b4⋅p_b4) + α_c⋅μ_c - bj)"
      ]
     },
     "metadata": {},
     "output_type": "display_data"
    }
   ],
   "source": [
    "LSQ = pow((Ga+Gb+Gc - bj),2)\n",
    "LS  = (Ga+Gb+Gc - bj)\n",
    "\n",
    "dLSQdp_a0 = diff(simplify(LSQ),'alpha_c') \n",
    "\n",
    "display(dLSQdp_a0)\n",
    "display(der*LS)\n",
    "\n",
    "# print(LSQ)"
   ]
  },
  {
   "cell_type": "code",
   "execution_count": null,
   "id": "fdf3a382",
   "metadata": {},
   "outputs": [],
   "source": []
  },
  {
   "cell_type": "code",
   "execution_count": 23,
   "id": "3f006f21",
   "metadata": {},
   "outputs": [
    {
     "data": {
      "image/png": "[encoded data removed]",
      "text/latex": [
       "$\\displaystyle \\left(\\alpha_{a} \\left(\\mu_{a0} p_{a0} + \\mu_{a1} p_{a1} + \\mu_{a2} p_{a2} + \\mu_{a3} p_{a3} + \\mu_{a4} p_{a4}\\right) + \\alpha_{b} \\left(\\mu_{b0} p_{b0} + \\mu_{b1} p_{b1} + \\mu_{b2} p_{b2} + \\mu_{b3} p_{b3} + \\mu_{b4} p_{b4}\\right) + \\alpha_{c} \\left(\\mu_{c0} p_{c0} + \\mu_{c1} p_{c1} + \\mu_{c2} p_{c2} + \\mu_{c3} p_{c3}\\right)\\right)^{2}$"
      ],
      "text/plain": [
       "                                                                              \n",
       "(αₐ⋅(μₐ₀⋅pₐ₀ + μₐ₁⋅pₐ₁ + μₐ₂⋅pₐ₂ + μₐ₃⋅pₐ₃ + μₐ₄⋅pₐ₄) + α_b⋅(μ_b0⋅p_b0 + μ_b1⋅\n",
       "\n",
       "                                                                              \n",
       "p_b1 + μ_b2⋅p_b2 + μ_b3⋅p_b3 + μ_b4⋅p_b4) + α_c⋅(μ_c0⋅p_c0 + μ_c1⋅p_c1 + μ_c2⋅\n",
       "\n",
       "                  2\n",
       "p_c2 + μ_c3⋅p_c3)) "
      ]
     },
     "metadata": {},
     "output_type": "display_data"
    },
    {
     "data": {
      "image/png": "[encoded data removed]",
      "text/latex": [
       "$\\displaystyle \\alpha_{a} \\left(\\mu_{a0} p_{a0} + \\mu_{a1} p_{a1} + \\mu_{a2} p_{a2} + \\mu_{a3} p_{a3} + \\mu_{a4} p_{a4}\\right)$"
      ],
      "text/plain": [
       "αₐ⋅(μₐ₀⋅pₐ₀ + μₐ₁⋅pₐ₁ + μₐ₂⋅pₐ₂ + μₐ₃⋅pₐ₃ + μₐ₄⋅pₐ₄)"
      ]
     },
     "metadata": {},
     "output_type": "display_data"
    },
    {
     "data": {
      "image/png": "[encoded data removed]",
      "text/latex": [
       "$\\displaystyle \\alpha_{b} \\left(\\mu_{b0} p_{b0} + \\mu_{b1} p_{b1} + \\mu_{b2} p_{b2} + \\mu_{b3} p_{b3} + \\mu_{b4} p_{b4}\\right)$"
      ],
      "text/plain": [
       "α_b⋅(μ_b0⋅p_b0 + μ_b1⋅p_b1 + μ_b2⋅p_b2 + μ_b3⋅p_b3 + μ_b4⋅p_b4)"
      ]
     },
     "metadata": {},
     "output_type": "display_data"
    },
    {
     "data": {
      "image/png": "[encoded data removed]",
      "text/latex": [
       "$\\displaystyle \\alpha_{c} \\left(\\mu_{c0} p_{c0} + \\mu_{c1} p_{c1} + \\mu_{c2} p_{c2} + \\mu_{c3} p_{c3}\\right)$"
      ],
      "text/plain": [
       "α_c⋅(μ_c0⋅p_c0 + μ_c1⋅p_c1 + μ_c2⋅p_c2 + μ_c3⋅p_c3)"
      ]
     },
     "metadata": {},
     "output_type": "display_data"
    }
   ],
   "source": [
    "display(LSQ)\n",
    "display(Ga,Gb,Gc)"
   ]
  },
  {
   "cell_type": "code",
   "execution_count": 2,
   "id": "1d32d74a",
   "metadata": {},
   "outputs": [],
   "source": [
    "sum_fac  = sympify('fbc/(p0*ape0+p1*ape1+p2*ape2+p3*ape3+p4*ape4)');\n",
    "sum_pmu  = sympify('p0*mu0+p1*mu1+p2*mu2+p3*mu3+p4*mu4');\n",
    "G        = sum_fac*sum_pmu\n",
    "sym_list = ['p0','p1','p2','p3','p4']\n",
    "\n",
    "# sum_fac  = sympify('fbc/ape');\n",
    "# sum_pmu  = sympify('p0*mu0+p1*mu1+p2*mu2+p3*mu3+p4*mu4');\n",
    "# G        = sum_fac*sum_pmu\n",
    "# sym_list = ['p0','p1','p2','p3','p4']\n"
   ]
  },
  {
   "cell_type": "code",
   "execution_count": 3,
   "id": "076bb2bf",
   "metadata": {},
   "outputs": [
    {
     "data": {
      "image/png": "[encoded data removed]",
      "text/latex": [
       "$\\displaystyle \\frac{fbc \\left(\\mu_{0} p_{0} + \\mu_{1} p_{1} + \\mu_{2} p_{2} + \\mu_{3} p_{3} + \\mu_{4} p_{4}\\right)}{ape_{0} p_{0} + ape_{1} p_{1} + ape_{2} p_{2} + ape_{3} p_{3} + ape_{4} p_{4}}$"
      ],
      "text/plain": [
       "  fbc⋅(μ₀⋅p₀ + μ₁⋅p₁ + μ₂⋅p₂ + μ₃⋅p₃ + μ₄⋅p₄)  \n",
       "───────────────────────────────────────────────\n",
       "ape₀⋅p₀ + ape₁⋅p₁ + ape₂⋅p₂ + ape₃⋅p₃ + ape₄⋅p₄"
      ]
     },
     "metadata": {},
     "output_type": "display_data"
    }
   ],
   "source": [
    "display(G)\n",
    "# gradient = lambda f, v: Matrix([f]).jacobian(v)\n",
    "# gradient(G, sym_list)\n"
   ]
  },
  {
   "cell_type": "code",
   "execution_count": 4,
   "id": "73302061",
   "metadata": {},
   "outputs": [],
   "source": [
    "dp = [0] * 4\n",
    "for ii in range(0,4):\n",
    "        dp[ii] = diff(simplify(G),sym_list[ii]) "
   ]
  },
  {
   "cell_type": "code",
   "execution_count": 5,
   "id": "339fc382",
   "metadata": {},
   "outputs": [
    {
     "data": {
      "image/png": "[encoded data removed]",
      "text/latex": [
       "$\\displaystyle - \\frac{ape_{0} fbc \\left(\\mu_{0} p_{0} + \\mu_{1} p_{1} + \\mu_{2} p_{2} + \\mu_{3} p_{3} + \\mu_{4} p_{4}\\right)}{\\left(ape_{0} p_{0} + ape_{1} p_{1} + ape_{2} p_{2} + ape_{3} p_{3} + ape_{4} p_{4}\\right)^{2}} + \\frac{fbc \\mu_{0}}{ape_{0} p_{0} + ape_{1} p_{1} + ape_{2} p_{2} + ape_{3} p_{3} + ape_{4} p_{4}}$"
      ],
      "text/plain": [
       "   ape₀⋅fbc⋅(μ₀⋅p₀ + μ₁⋅p₁ + μ₂⋅p₂ + μ₃⋅p₃ + μ₄⋅p₄)                         fb\n",
       "- ────────────────────────────────────────────────── + ───────────────────────\n",
       "                                                   2   ape₀⋅p₀ + ape₁⋅p₁ + ape\n",
       "  (ape₀⋅p₀ + ape₁⋅p₁ + ape₂⋅p₂ + ape₃⋅p₃ + ape₄⋅p₄)                           \n",
       "\n",
       "c⋅μ₀                    \n",
       "────────────────────────\n",
       "₂⋅p₂ + ape₃⋅p₃ + ape₄⋅p₄\n",
       "                        "
      ]
     },
     "metadata": {},
     "output_type": "display_data"
    }
   ],
   "source": [
    "display(dp[0])"
   ]
  },
  {
   "cell_type": "code",
   "execution_count": null,
   "id": "fd4b9c1c",
   "metadata": {},
   "outputs": [],
   "source": [
    "simplify(dp[0])"
   ]
  },
  {
   "cell_type": "code",
   "execution_count": null,
   "id": "bcb211b5",
   "metadata": {},
   "outputs": [],
   "source": []
  }
 ],
 "metadata": {
  "kernelspec": {
   "display_name": "Python 3",
   "language": "python",
   "name": "python3"
  },
  "language_info": {
   "codemirror_mode": {
    "name": "ipython",
    "version": 3
   },
   "file_extension": ".py",
   "mimetype": "text/x-python",
   "name": "python",
   "nbconvert_exporter": "python",
   "pygments_lexer": "ipython3",
   "version": "3.6.9"
  },
  "varInspector": {
   "cols": {
    "lenName": 16,
    "lenType": 16,
    "lenVar": 40
   },
   "kernels_config": {
    "python": {
     "delete_cmd_postfix": "",
     "delete_cmd_prefix": "del ",
     "library": "var_list.py",
     "varRefreshCmd": "print(var_dic_list())"
    },
    "r": {
     "delete_cmd_postfix": ") ",
     "delete_cmd_prefix": "rm(",
     "library": "var_list.r",
     "varRefreshCmd": "cat(var_dic_list()) "
    }
   },
   "types_to_exclude": [
    "module",
    "function",
    "builtin_function_or_method",
    "instance",
    "_Feature"
   ],
   "window_display": false
  }
 },
 "nbformat": 4,
 "nbformat_minor": 5
}
